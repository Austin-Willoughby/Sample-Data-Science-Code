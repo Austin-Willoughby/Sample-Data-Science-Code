{
 "cells": [
  {
   "cell_type": "markdown",
   "metadata": {},
   "source": [
    "# Data Science Sample Code \n",
    "Candidate: Austin Willoughby <br>\n",
    "Thank you for taking the time to view my code.  The below work represents a standard data cleaning, EDA, model building, visualization, and analysis.  Thank you!"
   ]
  },
  {
   "cell_type": "markdown",
   "metadata": {},
   "source": [
    "<b>Pulling Dataset from GitHub<b>"
   ]
  },
  {
   "cell_type": "code",
   "execution_count": 2,
   "metadata": {
    "ExecuteTime": {
     "end_time": "2020-11-06T15:04:34.384018Z",
     "start_time": "2020-11-06T15:04:33.516037Z"
    },
    "scrolled": true
   },
   "outputs": [
    {
     "name": "stderr",
     "output_type": "stream",
     "text": [
      "Cloning into 'technical_screening'...\n"
     ]
    }
   ],
   "source": [
    "%%bash\n",
    "git clone https://github.com/airksenia/technical_screening"
   ]
  },
  {
   "cell_type": "markdown",
   "metadata": {
    "ExecuteTime": {
     "end_time": "2020-11-09T21:36:20.679495Z",
     "start_time": "2020-11-09T21:36:20.674518Z"
    }
   },
   "source": [
    "<b>Examine the raw data and load into Pandas for cleaning<b>"
   ]
  },
  {
   "cell_type": "code",
   "execution_count": 827,
   "metadata": {
    "ExecuteTime": {
     "end_time": "2020-11-10T01:22:34.094040Z",
     "start_time": "2020-11-10T01:22:34.084065Z"
    },
    "scrolled": true
   },
   "outputs": [
    {
     "data": {
      "text/plain": [
       "\"0,{'order_id': 21000, 'package': {'weight': 326, 'volume': 62018, 'imperial_unit': 'false'},'service_line': 34}\\n1,{'order_id': 21001, 'package': {'weight': 460, 'volume': 110592, 'imperial_unit': 'false'},'service_line': 34}\\n2,{'order_id': 21002, 'package': {'weight': 500, 'volume': 1440, 'imperial_unit': 'false'},'service_line': 88}\\n3,{'order_id': 21003, 'package': {'weight': 260, 'volume': 100700, 'imperial_unit': 'true'},'service_line': 34}\\n4,{'order_id': 21004, 'package': {'weight': 168, 'volume': 20700, 'imperial_unit': 'true'},'service_line': 88}\\n5,{'order_id': 21005, 'package': {'weight': 313, 'volume': 26400, 'imperial_unit': 'false'},'service_line': 65}\\n6,{'order_id': 21006, 'package': {'weight': 92, 'volume': 81840, 'imperial_unit': 'false'},'service_line': 34}\\n7,{'order_id': 21007, 'package': {'weight': 370, 'volume': 130036, 'imperial_unit': 'true'},'service_line': 34}\\n8,{'order_id': 21008, 'package': {'weight': 220, 'volume': 33660, 'imperial_unit': 'true'},'service_line':\""
      ]
     },
     "execution_count": 827,
     "metadata": {},
     "output_type": "execute_result"
    }
   ],
   "source": [
    "f = open('technical_screening/order_records.log', 'r')\n",
    "file_contents = f.read()\n",
    "file_contents[:1000]"
   ]
  },
  {
   "cell_type": "code",
   "execution_count": 828,
   "metadata": {
    "ExecuteTime": {
     "end_time": "2020-11-10T01:22:34.859567Z",
     "start_time": "2020-11-10T01:22:34.840616Z"
    },
    "scrolled": true
   },
   "outputs": [
    {
     "name": "stderr",
     "output_type": "stream",
     "text": [
      "C:\\ProgramData\\Anaconda3\\lib\\site-packages\\ipykernel_launcher.py:3: ParserWarning: Falling back to the 'python' engine because the 'c' engine does not support regex separators (separators > 1 char and different from '\\s+' are interpreted as regex); you can avoid this warning by specifying engine='python'.\n",
      "  This is separate from the ipykernel package so we can avoid doing imports until\n"
     ]
    },
    {
     "data": {
      "text/html": [
       "<div>\n",
       "<style scoped>\n",
       "    .dataframe tbody tr th:only-of-type {\n",
       "        vertical-align: middle;\n",
       "    }\n",
       "\n",
       "    .dataframe tbody tr th {\n",
       "        vertical-align: top;\n",
       "    }\n",
       "\n",
       "    .dataframe thead th {\n",
       "        text-align: right;\n",
       "    }\n",
       "</style>\n",
       "<table border=\"1\" class=\"dataframe\">\n",
       "  <thead>\n",
       "    <tr style=\"text-align: right;\">\n",
       "      <th></th>\n",
       "      <th>0</th>\n",
       "    </tr>\n",
       "  </thead>\n",
       "  <tbody>\n",
       "    <tr>\n",
       "      <th>0</th>\n",
       "      <td>0,{'order_id': 21000, 'package': {'weight': 32...</td>\n",
       "    </tr>\n",
       "    <tr>\n",
       "      <th>1</th>\n",
       "      <td>1,{'order_id': 21001, 'package': {'weight': 46...</td>\n",
       "    </tr>\n",
       "    <tr>\n",
       "      <th>2</th>\n",
       "      <td>2,{'order_id': 21002, 'package': {'weight': 50...</td>\n",
       "    </tr>\n",
       "    <tr>\n",
       "      <th>3</th>\n",
       "      <td>3,{'order_id': 21003, 'package': {'weight': 26...</td>\n",
       "    </tr>\n",
       "    <tr>\n",
       "      <th>4</th>\n",
       "      <td>4,{'order_id': 21004, 'package': {'weight': 16...</td>\n",
       "    </tr>\n",
       "  </tbody>\n",
       "</table>\n",
       "</div>"
      ],
      "text/plain": [
       "                                                   0\n",
       "0  0,{'order_id': 21000, 'package': {'weight': 32...\n",
       "1  1,{'order_id': 21001, 'package': {'weight': 46...\n",
       "2  2,{'order_id': 21002, 'package': {'weight': 50...\n",
       "3  3,{'order_id': 21003, 'package': {'weight': 26...\n",
       "4  4,{'order_id': 21004, 'package': {'weight': 16..."
      ]
     },
     "execution_count": 828,
     "metadata": {},
     "output_type": "execute_result"
    }
   ],
   "source": [
    "import pandas as pd\n",
    "\n",
    "order_records = pd.read_csv('technical_screening/order_records.log', sep = 'random_value_TEGQH', header = None)\n",
    "order_records.head()\n"
   ]
  },
  {
   "cell_type": "code",
   "execution_count": 829,
   "metadata": {
    "ExecuteTime": {
     "end_time": "2020-11-10T01:22:35.452068Z",
     "start_time": "2020-11-10T01:22:35.445090Z"
    }
   },
   "outputs": [
    {
     "data": {
      "text/plain": [
       "str"
      ]
     },
     "execution_count": 829,
     "metadata": {},
     "output_type": "execute_result"
    }
   ],
   "source": [
    "type(order_records[0][0])"
   ]
  },
  {
   "cell_type": "markdown",
   "metadata": {},
   "source": [
    "<b>Convert string to dictionary<b>"
   ]
  },
  {
   "cell_type": "code",
   "execution_count": 830,
   "metadata": {
    "ExecuteTime": {
     "end_time": "2020-11-10T01:22:36.551756Z",
     "start_time": "2020-11-10T01:22:36.495740Z"
    }
   },
   "outputs": [
    {
     "name": "stdout",
     "output_type": "stream",
     "text": [
      "Column type pre to_list: <class 'tuple'>\n",
      "Tuple item type pre to_list: <class 'dict'>\n",
      "Column type post to_list: <class 'dict'>\n"
     ]
    },
    {
     "data": {
      "text/html": [
       "<div>\n",
       "<style scoped>\n",
       "    .dataframe tbody tr th:only-of-type {\n",
       "        vertical-align: middle;\n",
       "    }\n",
       "\n",
       "    .dataframe tbody tr th {\n",
       "        vertical-align: top;\n",
       "    }\n",
       "\n",
       "    .dataframe thead th {\n",
       "        text-align: right;\n",
       "    }\n",
       "</style>\n",
       "<table border=\"1\" class=\"dataframe\">\n",
       "  <thead>\n",
       "    <tr style=\"text-align: right;\">\n",
       "      <th></th>\n",
       "      <th>1</th>\n",
       "    </tr>\n",
       "    <tr>\n",
       "      <th>0</th>\n",
       "      <th></th>\n",
       "    </tr>\n",
       "  </thead>\n",
       "  <tbody>\n",
       "    <tr>\n",
       "      <th>0</th>\n",
       "      <td>{'order_id': 21000, 'package': {'weight': 326,...</td>\n",
       "    </tr>\n",
       "    <tr>\n",
       "      <th>1</th>\n",
       "      <td>{'order_id': 21001, 'package': {'weight': 460,...</td>\n",
       "    </tr>\n",
       "    <tr>\n",
       "      <th>2</th>\n",
       "      <td>{'order_id': 21002, 'package': {'weight': 500,...</td>\n",
       "    </tr>\n",
       "    <tr>\n",
       "      <th>3</th>\n",
       "      <td>{'order_id': 21003, 'package': {'weight': 260,...</td>\n",
       "    </tr>\n",
       "    <tr>\n",
       "      <th>4</th>\n",
       "      <td>{'order_id': 21004, 'package': {'weight': 168,...</td>\n",
       "    </tr>\n",
       "  </tbody>\n",
       "</table>\n",
       "</div>"
      ],
      "text/plain": [
       "                                                   1\n",
       "0                                                   \n",
       "0  {'order_id': 21000, 'package': {'weight': 326,...\n",
       "1  {'order_id': 21001, 'package': {'weight': 460,...\n",
       "2  {'order_id': 21002, 'package': {'weight': 500,...\n",
       "3  {'order_id': 21003, 'package': {'weight': 260,...\n",
       "4  {'order_id': 21004, 'package': {'weight': 168,..."
      ]
     },
     "execution_count": 830,
     "metadata": {},
     "output_type": "execute_result"
    }
   ],
   "source": [
    "import ast\n",
    "def str_to_dict(string):\n",
    "    \n",
    "    return ast.literal_eval(string)\n",
    "\n",
    "\n",
    "order_records_dict = pd.DataFrame(order_records[0].apply(str_to_dict))\n",
    "print('Column type pre to_list:',type(order_records_dict[0][0]))\n",
    "print('Tuple item type pre to_list:',type(order_records_dict[0][0][1]))\n",
    "# order_records_dict.head()\n",
    "\n",
    "\n",
    "order_records_dict = pd.DataFrame(order_records_dict[0].to_list()).set_index(0)\n",
    "# order_records_dict.head()\n",
    "print('Column type post to_list:',type(order_records_dict[1][0]))\n",
    "order_records_dict.head()"
   ]
  },
  {
   "cell_type": "markdown",
   "metadata": {
    "ExecuteTime": {
     "end_time": "2020-11-09T21:40:01.495629Z",
     "start_time": "2020-11-09T21:40:01.489618Z"
    }
   },
   "source": [
    "<b>Check the dictionary shape.  \"Packages\" is the only feature with a nested dictionary.<b>"
   ]
  },
  {
   "cell_type": "code",
   "execution_count": 831,
   "metadata": {
    "ExecuteTime": {
     "end_time": "2020-11-10T01:22:37.074731Z",
     "start_time": "2020-11-10T01:22:37.063749Z"
    }
   },
   "outputs": [
    {
     "name": "stdout",
     "output_type": "stream",
     "text": [
      "[(3, 3)]\n"
     ]
    },
    {
     "data": {
      "text/plain": [
       "{'order_id': 21001,\n",
       " 'package': {'weight': 460, 'volume': 110592, 'imperial_unit': 'false'},\n",
       " 'service_line': 34}"
      ]
     },
     "execution_count": 831,
     "metadata": {},
     "output_type": "execute_result"
    }
   ],
   "source": [
    "# check data shape\n",
    "# dictionaries appear to be uniform\n",
    "def dict_length(dictionary):\n",
    "\n",
    "    for i in dictionary.keys():\n",
    "        if type(dictionary[i]) == dict:\n",
    "            if i != 'package':\n",
    "                print(i)\n",
    "\n",
    "    \n",
    "    ##print(pd.Series(dict_list).unique())\n",
    "    return len(dictionary), len(dictionary['package'])\n",
    "\n",
    "print(order_records_dict[1].apply(dict_length).unique())\n",
    "order_records_dict[1][1]"
   ]
  },
  {
   "cell_type": "code",
   "execution_count": 832,
   "metadata": {
    "ExecuteTime": {
     "end_time": "2020-11-10T01:22:37.594332Z",
     "start_time": "2020-11-10T01:22:37.586355Z"
    }
   },
   "outputs": [
    {
     "data": {
      "text/plain": [
       "0\n",
       "0    {'order_id': 21000, 'package': {'weight': 326,...\n",
       "1    {'order_id': 21001, 'package': {'weight': 460,...\n",
       "2    {'order_id': 21002, 'package': {'weight': 500,...\n",
       "3    {'order_id': 21003, 'package': {'weight': 260,...\n",
       "4    {'order_id': 21004, 'package': {'weight': 168,...\n",
       "Name: 1, dtype: object"
      ]
     },
     "execution_count": 832,
     "metadata": {},
     "output_type": "execute_result"
    }
   ],
   "source": [
    "order_records_dict[1].head()"
   ]
  },
  {
   "cell_type": "markdown",
   "metadata": {},
   "source": [
    "<b>Convert nested dictionary into MultiIndex Pandas DateFrame"
   ]
  },
  {
   "cell_type": "code",
   "execution_count": 833,
   "metadata": {
    "ExecuteTime": {
     "end_time": "2020-11-10T01:22:38.125709Z",
     "start_time": "2020-11-10T01:22:38.118690Z"
    }
   },
   "outputs": [],
   "source": [
    "def dict_to_df(dictionary):\n",
    "    \n",
    "    df_test = pd.DataFrame.from_dict({(i,j): dictionary[i][j] \n",
    "                           for i in dictionary.keys() if i == 'package'\n",
    "                           for j in dictionary[i].keys()},\n",
    "                       orient='index')\n",
    "\n",
    "    df_test.index = pd.MultiIndex.from_tuples(df_test.index)\n",
    "    df_test = df_test.T\n",
    "    df_test['order_id'] = dictionary['order_id']\n",
    "    df_test['service_line'] = dictionary['service_line']\n",
    "    return df_test\n",
    "    "
   ]
  },
  {
   "cell_type": "code",
   "execution_count": 834,
   "metadata": {
    "ExecuteTime": {
     "end_time": "2020-11-10T01:22:41.994353Z",
     "start_time": "2020-11-10T01:22:38.633313Z"
    },
    "scrolled": true
   },
   "outputs": [
    {
     "name": "stderr",
     "output_type": "stream",
     "text": [
      "C:\\ProgramData\\Anaconda3\\lib\\site-packages\\pandas\\core\\generic.py:3812: PerformanceWarning: dropping on a non-lexsorted multi-index without a level parameter may impact performance.\n",
      "  new_axis = axis.drop(labels, errors=errors)\n"
     ]
    },
    {
     "data": {
      "text/html": [
       "<div>\n",
       "<style scoped>\n",
       "    .dataframe tbody tr th:only-of-type {\n",
       "        vertical-align: middle;\n",
       "    }\n",
       "\n",
       "    .dataframe tbody tr th {\n",
       "        vertical-align: top;\n",
       "    }\n",
       "\n",
       "    .dataframe thead tr th {\n",
       "        text-align: left;\n",
       "    }\n",
       "</style>\n",
       "<table border=\"1\" class=\"dataframe\">\n",
       "  <thead>\n",
       "    <tr>\n",
       "      <th></th>\n",
       "      <th colspan=\"3\" halign=\"left\">package</th>\n",
       "      <th>order_id</th>\n",
       "      <th>service_line</th>\n",
       "    </tr>\n",
       "    <tr>\n",
       "      <th></th>\n",
       "      <th>weight</th>\n",
       "      <th>volume</th>\n",
       "      <th>imperial_unit</th>\n",
       "      <th></th>\n",
       "      <th></th>\n",
       "    </tr>\n",
       "  </thead>\n",
       "  <tbody>\n",
       "    <tr>\n",
       "      <th>0</th>\n",
       "      <td>326</td>\n",
       "      <td>62018</td>\n",
       "      <td>false</td>\n",
       "      <td>21000</td>\n",
       "      <td>34</td>\n",
       "    </tr>\n",
       "    <tr>\n",
       "      <th>1</th>\n",
       "      <td>460</td>\n",
       "      <td>110592</td>\n",
       "      <td>false</td>\n",
       "      <td>21001</td>\n",
       "      <td>34</td>\n",
       "    </tr>\n",
       "    <tr>\n",
       "      <th>2</th>\n",
       "      <td>500</td>\n",
       "      <td>1440</td>\n",
       "      <td>false</td>\n",
       "      <td>21002</td>\n",
       "      <td>88</td>\n",
       "    </tr>\n",
       "    <tr>\n",
       "      <th>3</th>\n",
       "      <td>260</td>\n",
       "      <td>100700</td>\n",
       "      <td>true</td>\n",
       "      <td>21003</td>\n",
       "      <td>34</td>\n",
       "    </tr>\n",
       "    <tr>\n",
       "      <th>4</th>\n",
       "      <td>168</td>\n",
       "      <td>20700</td>\n",
       "      <td>true</td>\n",
       "      <td>21004</td>\n",
       "      <td>88</td>\n",
       "    </tr>\n",
       "  </tbody>\n",
       "</table>\n",
       "</div>"
      ],
      "text/plain": [
       "  package                       order_id service_line\n",
       "   weight  volume imperial_unit                      \n",
       "0     326   62018         false    21000           34\n",
       "1     460  110592         false    21001           34\n",
       "2     500    1440         false    21002           88\n",
       "3     260  100700          true    21003           34\n",
       "4     168   20700          true    21004           88"
      ]
     },
     "execution_count": 834,
     "metadata": {},
     "output_type": "execute_result"
    }
   ],
   "source": [
    "df = order_records_dict[1].apply(dict_to_df)\n",
    "# df = pd.concat(test123.values.tolist())\n",
    "df = pd.concat(df.values.tolist())\n",
    "\n",
    "df = df.reset_index().drop(['index'], axis = 1)\n",
    "df.head()"
   ]
  },
  {
   "cell_type": "code",
   "execution_count": 835,
   "metadata": {
    "ExecuteTime": {
     "end_time": "2020-11-10T01:22:42.571004Z",
     "start_time": "2020-11-10T01:22:42.559005Z"
    }
   },
   "outputs": [
    {
     "data": {
      "text/html": [
       "<div>\n",
       "<style scoped>\n",
       "    .dataframe tbody tr th:only-of-type {\n",
       "        vertical-align: middle;\n",
       "    }\n",
       "\n",
       "    .dataframe tbody tr th {\n",
       "        vertical-align: top;\n",
       "    }\n",
       "\n",
       "    .dataframe thead th {\n",
       "        text-align: right;\n",
       "    }\n",
       "</style>\n",
       "<table border=\"1\" class=\"dataframe\">\n",
       "  <thead>\n",
       "    <tr style=\"text-align: right;\">\n",
       "      <th></th>\n",
       "      <th>weight</th>\n",
       "      <th>volume</th>\n",
       "      <th>imperial_unit</th>\n",
       "      <th>order_id</th>\n",
       "      <th>service_line</th>\n",
       "    </tr>\n",
       "  </thead>\n",
       "  <tbody>\n",
       "    <tr>\n",
       "      <th>0</th>\n",
       "      <td>326</td>\n",
       "      <td>62018</td>\n",
       "      <td>false</td>\n",
       "      <td>21000</td>\n",
       "      <td>34</td>\n",
       "    </tr>\n",
       "    <tr>\n",
       "      <th>1</th>\n",
       "      <td>460</td>\n",
       "      <td>110592</td>\n",
       "      <td>false</td>\n",
       "      <td>21001</td>\n",
       "      <td>34</td>\n",
       "    </tr>\n",
       "    <tr>\n",
       "      <th>2</th>\n",
       "      <td>500</td>\n",
       "      <td>1440</td>\n",
       "      <td>false</td>\n",
       "      <td>21002</td>\n",
       "      <td>88</td>\n",
       "    </tr>\n",
       "    <tr>\n",
       "      <th>3</th>\n",
       "      <td>260</td>\n",
       "      <td>100700</td>\n",
       "      <td>true</td>\n",
       "      <td>21003</td>\n",
       "      <td>34</td>\n",
       "    </tr>\n",
       "    <tr>\n",
       "      <th>4</th>\n",
       "      <td>168</td>\n",
       "      <td>20700</td>\n",
       "      <td>true</td>\n",
       "      <td>21004</td>\n",
       "      <td>88</td>\n",
       "    </tr>\n",
       "  </tbody>\n",
       "</table>\n",
       "</div>"
      ],
      "text/plain": [
       "  weight  volume imperial_unit  order_id service_line\n",
       "0    326   62018         false     21000           34\n",
       "1    460  110592         false     21001           34\n",
       "2    500    1440         false     21002           88\n",
       "3    260  100700          true     21003           34\n",
       "4    168   20700          true     21004           88"
      ]
     },
     "execution_count": 835,
     "metadata": {},
     "output_type": "execute_result"
    }
   ],
   "source": [
    "#removed MultiIndex for easier data manipulaton\n",
    "df.columns = ['weight','volume','imperial_unit','order_id','service_line']\n",
    "df.head()"
   ]
  },
  {
   "cell_type": "markdown",
   "metadata": {},
   "source": [
    "<b>Exploratory Data Analysis<b>"
   ]
  },
  {
   "cell_type": "code",
   "execution_count": 836,
   "metadata": {
    "ExecuteTime": {
     "end_time": "2020-11-10T01:22:43.117739Z",
     "start_time": "2020-11-10T01:22:43.110777Z"
    }
   },
   "outputs": [
    {
     "data": {
      "text/plain": [
       "array(['false', 'true'], dtype=object)"
      ]
     },
     "execution_count": 836,
     "metadata": {},
     "output_type": "execute_result"
    }
   ],
   "source": [
    "#Determine unique imperial_unit values\n",
    "df['imperial_unit'].unique()"
   ]
  },
  {
   "cell_type": "code",
   "execution_count": 837,
   "metadata": {
    "ExecuteTime": {
     "end_time": "2020-11-10T01:22:43.616223Z",
     "start_time": "2020-11-10T01:22:43.609240Z"
    }
   },
   "outputs": [
    {
     "data": {
      "text/plain": [
       "array([34, 88, 65, 64, 14, '65', '34'], dtype=object)"
      ]
     },
     "execution_count": 837,
     "metadata": {},
     "output_type": "execute_result"
    }
   ],
   "source": [
    "#Determine unique service_line values\n",
    "df.service_line.unique()"
   ]
  },
  {
   "cell_type": "code",
   "execution_count": 838,
   "metadata": {
    "ExecuteTime": {
     "end_time": "2020-11-10T01:22:44.150795Z",
     "start_time": "2020-11-10T01:22:44.141819Z"
    },
    "scrolled": true
   },
   "outputs": [
    {
     "data": {
      "text/plain": [
       "weight           0\n",
       "volume           0\n",
       "imperial_unit    0\n",
       "order_id         0\n",
       "service_line     0\n",
       "dtype: int64"
      ]
     },
     "execution_count": 838,
     "metadata": {},
     "output_type": "execute_result"
    }
   ],
   "source": [
    "# Check for missing values\n",
    "df.isnull().sum()"
   ]
  },
  {
   "cell_type": "code",
   "execution_count": 839,
   "metadata": {
    "ExecuteTime": {
     "end_time": "2020-11-10T01:22:44.638507Z",
     "start_time": "2020-11-10T01:22:44.633510Z"
    }
   },
   "outputs": [
    {
     "data": {
      "text/plain": [
       "weight           object\n",
       "volume           object\n",
       "imperial_unit    object\n",
       "order_id          int64\n",
       "service_line     object\n",
       "dtype: object"
      ]
     },
     "execution_count": 839,
     "metadata": {},
     "output_type": "execute_result"
    }
   ],
   "source": [
    "#Determine column data types\n",
    "df.dtypes"
   ]
  },
  {
   "cell_type": "code",
   "execution_count": 801,
   "metadata": {
    "ExecuteTime": {
     "end_time": "2020-11-10T00:58:39.934948Z",
     "start_time": "2020-11-10T00:58:39.902022Z"
    },
    "scrolled": true
   },
   "outputs": [
    {
     "data": {
      "text/html": [
       "<div>\n",
       "<style scoped>\n",
       "    .dataframe tbody tr th:only-of-type {\n",
       "        vertical-align: middle;\n",
       "    }\n",
       "\n",
       "    .dataframe tbody tr th {\n",
       "        vertical-align: top;\n",
       "    }\n",
       "\n",
       "    .dataframe thead th {\n",
       "        text-align: right;\n",
       "    }\n",
       "</style>\n",
       "<table border=\"1\" class=\"dataframe\">\n",
       "  <thead>\n",
       "    <tr style=\"text-align: right;\">\n",
       "      <th></th>\n",
       "      <th>weight</th>\n",
       "      <th>volume</th>\n",
       "      <th>imperial_unit</th>\n",
       "      <th>order_id</th>\n",
       "      <th>service_line</th>\n",
       "    </tr>\n",
       "  </thead>\n",
       "  <tbody>\n",
       "    <tr>\n",
       "      <th>count</th>\n",
       "      <td>1000.0</td>\n",
       "      <td>1000.0</td>\n",
       "      <td>1000</td>\n",
       "      <td>1000.0</td>\n",
       "      <td>1000.0</td>\n",
       "    </tr>\n",
       "    <tr>\n",
       "      <th>unique</th>\n",
       "      <td>407.0</td>\n",
       "      <td>727.0</td>\n",
       "      <td>2</td>\n",
       "      <td>NaN</td>\n",
       "      <td>7.0</td>\n",
       "    </tr>\n",
       "    <tr>\n",
       "      <th>top</th>\n",
       "      <td>100.0</td>\n",
       "      <td>46656.0</td>\n",
       "      <td>false</td>\n",
       "      <td>NaN</td>\n",
       "      <td>34.0</td>\n",
       "    </tr>\n",
       "    <tr>\n",
       "      <th>freq</th>\n",
       "      <td>38.0</td>\n",
       "      <td>30.0</td>\n",
       "      <td>812</td>\n",
       "      <td>NaN</td>\n",
       "      <td>500.0</td>\n",
       "    </tr>\n",
       "    <tr>\n",
       "      <th>mean</th>\n",
       "      <td>NaN</td>\n",
       "      <td>NaN</td>\n",
       "      <td>NaN</td>\n",
       "      <td>21509.5</td>\n",
       "      <td>NaN</td>\n",
       "    </tr>\n",
       "    <tr>\n",
       "      <th>std</th>\n",
       "      <td>NaN</td>\n",
       "      <td>NaN</td>\n",
       "      <td>NaN</td>\n",
       "      <td>424.7</td>\n",
       "      <td>NaN</td>\n",
       "    </tr>\n",
       "    <tr>\n",
       "      <th>min</th>\n",
       "      <td>NaN</td>\n",
       "      <td>NaN</td>\n",
       "      <td>NaN</td>\n",
       "      <td>21000.0</td>\n",
       "      <td>NaN</td>\n",
       "    </tr>\n",
       "    <tr>\n",
       "      <th>25%</th>\n",
       "      <td>NaN</td>\n",
       "      <td>NaN</td>\n",
       "      <td>NaN</td>\n",
       "      <td>21249.8</td>\n",
       "      <td>NaN</td>\n",
       "    </tr>\n",
       "    <tr>\n",
       "      <th>50%</th>\n",
       "      <td>NaN</td>\n",
       "      <td>NaN</td>\n",
       "      <td>NaN</td>\n",
       "      <td>21500.5</td>\n",
       "      <td>NaN</td>\n",
       "    </tr>\n",
       "    <tr>\n",
       "      <th>75%</th>\n",
       "      <td>NaN</td>\n",
       "      <td>NaN</td>\n",
       "      <td>NaN</td>\n",
       "      <td>21750.2</td>\n",
       "      <td>NaN</td>\n",
       "    </tr>\n",
       "    <tr>\n",
       "      <th>max</th>\n",
       "      <td>NaN</td>\n",
       "      <td>NaN</td>\n",
       "      <td>NaN</td>\n",
       "      <td>31348.0</td>\n",
       "      <td>NaN</td>\n",
       "    </tr>\n",
       "  </tbody>\n",
       "</table>\n",
       "</div>"
      ],
      "text/plain": [
       "        weight   volume imperial_unit  order_id  service_line\n",
       "count   1000.0   1000.0          1000    1000.0        1000.0\n",
       "unique   407.0    727.0             2       NaN           7.0\n",
       "top      100.0  46656.0         false       NaN          34.0\n",
       "freq      38.0     30.0           812       NaN         500.0\n",
       "mean       NaN      NaN           NaN   21509.5           NaN\n",
       "std        NaN      NaN           NaN     424.7           NaN\n",
       "min        NaN      NaN           NaN   21000.0           NaN\n",
       "25%        NaN      NaN           NaN   21249.8           NaN\n",
       "50%        NaN      NaN           NaN   21500.5           NaN\n",
       "75%        NaN      NaN           NaN   21750.2           NaN\n",
       "max        NaN      NaN           NaN   31348.0           NaN"
      ]
     },
     "execution_count": 801,
     "metadata": {},
     "output_type": "execute_result"
    }
   ],
   "source": [
    "#Dataset statistics\n",
    "#Numerical values need to be reformatted\n",
    "df.describe(include='all')"
   ]
  },
  {
   "cell_type": "code",
   "execution_count": 802,
   "metadata": {
    "ExecuteTime": {
     "end_time": "2020-11-10T00:58:40.450562Z",
     "start_time": "2020-11-10T00:58:40.442581Z"
    }
   },
   "outputs": [],
   "source": [
    "#Reformat numerical values\n",
    "df['weight'] = df['weight'].astype(int)\n",
    "df['volume'] = df['volume'].astype(int)\n",
    "df['service_line'] = df['service_line'].astype(int)\n"
   ]
  },
  {
   "cell_type": "code",
   "execution_count": 803,
   "metadata": {
    "ExecuteTime": {
     "end_time": "2020-11-10T00:58:41.002895Z",
     "start_time": "2020-11-10T00:58:40.995914Z"
    },
    "code_folding": []
   },
   "outputs": [
    {
     "data": {
      "text/plain": [
       "weight            int32\n",
       "volume            int32\n",
       "imperial_unit    object\n",
       "order_id          int64\n",
       "service_line      int32\n",
       "dtype: object"
      ]
     },
     "execution_count": 803,
     "metadata": {},
     "output_type": "execute_result"
    }
   ],
   "source": [
    "#Check new data types\n",
    "df.dtypes"
   ]
  },
  {
   "cell_type": "code",
   "execution_count": 804,
   "metadata": {
    "ExecuteTime": {
     "end_time": "2020-11-10T00:58:41.512883Z",
     "start_time": "2020-11-10T00:58:41.488917Z"
    },
    "scrolled": true
   },
   "outputs": [
    {
     "data": {
      "text/html": [
       "<div>\n",
       "<style scoped>\n",
       "    .dataframe tbody tr th:only-of-type {\n",
       "        vertical-align: middle;\n",
       "    }\n",
       "\n",
       "    .dataframe tbody tr th {\n",
       "        vertical-align: top;\n",
       "    }\n",
       "\n",
       "    .dataframe thead th {\n",
       "        text-align: right;\n",
       "    }\n",
       "</style>\n",
       "<table border=\"1\" class=\"dataframe\">\n",
       "  <thead>\n",
       "    <tr style=\"text-align: right;\">\n",
       "      <th></th>\n",
       "      <th>weight</th>\n",
       "      <th>volume</th>\n",
       "      <th>imperial_unit</th>\n",
       "      <th>order_id</th>\n",
       "      <th>service_line</th>\n",
       "    </tr>\n",
       "  </thead>\n",
       "  <tbody>\n",
       "    <tr>\n",
       "      <th>count</th>\n",
       "      <td>1000.0</td>\n",
       "      <td>1.0e+03</td>\n",
       "      <td>1000</td>\n",
       "      <td>1000.0</td>\n",
       "      <td>1000.0</td>\n",
       "    </tr>\n",
       "    <tr>\n",
       "      <th>unique</th>\n",
       "      <td>NaN</td>\n",
       "      <td>NaN</td>\n",
       "      <td>2</td>\n",
       "      <td>NaN</td>\n",
       "      <td>NaN</td>\n",
       "    </tr>\n",
       "    <tr>\n",
       "      <th>top</th>\n",
       "      <td>NaN</td>\n",
       "      <td>NaN</td>\n",
       "      <td>false</td>\n",
       "      <td>NaN</td>\n",
       "      <td>NaN</td>\n",
       "    </tr>\n",
       "    <tr>\n",
       "      <th>freq</th>\n",
       "      <td>NaN</td>\n",
       "      <td>NaN</td>\n",
       "      <td>812</td>\n",
       "      <td>NaN</td>\n",
       "      <td>NaN</td>\n",
       "    </tr>\n",
       "    <tr>\n",
       "      <th>mean</th>\n",
       "      <td>418.2</td>\n",
       "      <td>7.9e+04</td>\n",
       "      <td>NaN</td>\n",
       "      <td>21509.5</td>\n",
       "      <td>49.4</td>\n",
       "    </tr>\n",
       "    <tr>\n",
       "      <th>std</th>\n",
       "      <td>1313.8</td>\n",
       "      <td>1.3e+05</td>\n",
       "      <td>NaN</td>\n",
       "      <td>424.7</td>\n",
       "      <td>16.2</td>\n",
       "    </tr>\n",
       "    <tr>\n",
       "      <th>min</th>\n",
       "      <td>2.0</td>\n",
       "      <td>1.0e+00</td>\n",
       "      <td>NaN</td>\n",
       "      <td>21000.0</td>\n",
       "      <td>14.0</td>\n",
       "    </tr>\n",
       "    <tr>\n",
       "      <th>25%</th>\n",
       "      <td>120.0</td>\n",
       "      <td>2.4e+04</td>\n",
       "      <td>NaN</td>\n",
       "      <td>21249.8</td>\n",
       "      <td>34.0</td>\n",
       "    </tr>\n",
       "    <tr>\n",
       "      <th>50%</th>\n",
       "      <td>200.0</td>\n",
       "      <td>4.4e+04</td>\n",
       "      <td>NaN</td>\n",
       "      <td>21500.5</td>\n",
       "      <td>34.0</td>\n",
       "    </tr>\n",
       "    <tr>\n",
       "      <th>75%</th>\n",
       "      <td>416.5</td>\n",
       "      <td>8.6e+04</td>\n",
       "      <td>NaN</td>\n",
       "      <td>21750.2</td>\n",
       "      <td>65.0</td>\n",
       "    </tr>\n",
       "    <tr>\n",
       "      <th>max</th>\n",
       "      <td>36261.0</td>\n",
       "      <td>1.6e+06</td>\n",
       "      <td>NaN</td>\n",
       "      <td>31348.0</td>\n",
       "      <td>88.0</td>\n",
       "    </tr>\n",
       "  </tbody>\n",
       "</table>\n",
       "</div>"
      ],
      "text/plain": [
       "         weight   volume imperial_unit  order_id  service_line\n",
       "count    1000.0  1.0e+03          1000    1000.0        1000.0\n",
       "unique      NaN      NaN             2       NaN           NaN\n",
       "top         NaN      NaN         false       NaN           NaN\n",
       "freq        NaN      NaN           812       NaN           NaN\n",
       "mean      418.2  7.9e+04           NaN   21509.5          49.4\n",
       "std      1313.8  1.3e+05           NaN     424.7          16.2\n",
       "min         2.0  1.0e+00           NaN   21000.0          14.0\n",
       "25%       120.0  2.4e+04           NaN   21249.8          34.0\n",
       "50%       200.0  4.4e+04           NaN   21500.5          34.0\n",
       "75%       416.5  8.6e+04           NaN   21750.2          65.0\n",
       "max     36261.0  1.6e+06           NaN   31348.0          88.0"
      ]
     },
     "execution_count": 804,
     "metadata": {},
     "output_type": "execute_result"
    }
   ],
   "source": [
    "#Reformatted dataset statistics\n",
    "df.describe(include='all')"
   ]
  },
  {
   "cell_type": "markdown",
   "metadata": {},
   "source": [
    "<b>Feature Engineering<b>"
   ]
  },
  {
   "cell_type": "code",
   "execution_count": 805,
   "metadata": {
    "ExecuteTime": {
     "end_time": "2020-11-10T00:58:42.023661Z",
     "start_time": "2020-11-10T00:58:42.001720Z"
    }
   },
   "outputs": [],
   "source": [
    "pd.set_option(\"display.precision\", 1)\n",
    "\n",
    "#convert metric units to imperial\n",
    "lbs_per_Kg = 2.2\n",
    "in3_per_cm3 = 0.0610237\n",
    "\n",
    "df['weight_lbs'] = df['weight']\n",
    "df['weight_lbs'] = df['weight'][df['imperial_unit']=='false'].apply(lambda x: x * lbs_per_Kg)\n",
    "df.weight_lbs.fillna(df.weight, inplace=True)\n",
    "\n",
    "df['volume_in3'] = df['volume']\n",
    "df['volume_in3'] = df['volume'][df['imperial_unit']=='false'].apply(lambda x: x * in3_per_cm3)\n",
    "df.volume_in3.fillna(df.volume, inplace=True)\n",
    "\n",
    "df_imperial = df.drop(['weight','volume', 'imperial_unit'], axis=1)"
   ]
  },
  {
   "cell_type": "code",
   "execution_count": 806,
   "metadata": {
    "ExecuteTime": {
     "end_time": "2020-11-10T00:58:42.550258Z",
     "start_time": "2020-11-10T00:58:42.539286Z"
    }
   },
   "outputs": [
    {
     "data": {
      "text/html": [
       "<div>\n",
       "<style scoped>\n",
       "    .dataframe tbody tr th:only-of-type {\n",
       "        vertical-align: middle;\n",
       "    }\n",
       "\n",
       "    .dataframe tbody tr th {\n",
       "        vertical-align: top;\n",
       "    }\n",
       "\n",
       "    .dataframe thead th {\n",
       "        text-align: right;\n",
       "    }\n",
       "</style>\n",
       "<table border=\"1\" class=\"dataframe\">\n",
       "  <thead>\n",
       "    <tr style=\"text-align: right;\">\n",
       "      <th></th>\n",
       "      <th>weight</th>\n",
       "      <th>volume</th>\n",
       "      <th>imperial_unit</th>\n",
       "      <th>order_id</th>\n",
       "      <th>service_line</th>\n",
       "      <th>weight_lbs</th>\n",
       "      <th>volume_in3</th>\n",
       "    </tr>\n",
       "  </thead>\n",
       "  <tbody>\n",
       "    <tr>\n",
       "      <th>0</th>\n",
       "      <td>326</td>\n",
       "      <td>62018</td>\n",
       "      <td>false</td>\n",
       "      <td>21000</td>\n",
       "      <td>34</td>\n",
       "      <td>717.2</td>\n",
       "      <td>3784.6</td>\n",
       "    </tr>\n",
       "    <tr>\n",
       "      <th>1</th>\n",
       "      <td>460</td>\n",
       "      <td>110592</td>\n",
       "      <td>false</td>\n",
       "      <td>21001</td>\n",
       "      <td>34</td>\n",
       "      <td>1012.0</td>\n",
       "      <td>6748.7</td>\n",
       "    </tr>\n",
       "    <tr>\n",
       "      <th>2</th>\n",
       "      <td>500</td>\n",
       "      <td>1440</td>\n",
       "      <td>false</td>\n",
       "      <td>21002</td>\n",
       "      <td>88</td>\n",
       "      <td>1100.0</td>\n",
       "      <td>87.9</td>\n",
       "    </tr>\n",
       "    <tr>\n",
       "      <th>3</th>\n",
       "      <td>260</td>\n",
       "      <td>100700</td>\n",
       "      <td>true</td>\n",
       "      <td>21003</td>\n",
       "      <td>34</td>\n",
       "      <td>260.0</td>\n",
       "      <td>100700.0</td>\n",
       "    </tr>\n",
       "    <tr>\n",
       "      <th>4</th>\n",
       "      <td>168</td>\n",
       "      <td>20700</td>\n",
       "      <td>true</td>\n",
       "      <td>21004</td>\n",
       "      <td>88</td>\n",
       "      <td>168.0</td>\n",
       "      <td>20700.0</td>\n",
       "    </tr>\n",
       "  </tbody>\n",
       "</table>\n",
       "</div>"
      ],
      "text/plain": [
       "   weight  volume imperial_unit  order_id  service_line  weight_lbs  \\\n",
       "0     326   62018         false     21000            34       717.2   \n",
       "1     460  110592         false     21001            34      1012.0   \n",
       "2     500    1440         false     21002            88      1100.0   \n",
       "3     260  100700          true     21003            34       260.0   \n",
       "4     168   20700          true     21004            88       168.0   \n",
       "\n",
       "   volume_in3  \n",
       "0      3784.6  \n",
       "1      6748.7  \n",
       "2        87.9  \n",
       "3    100700.0  \n",
       "4     20700.0  "
      ]
     },
     "execution_count": 806,
     "metadata": {},
     "output_type": "execute_result"
    }
   ],
   "source": [
    "df.head()"
   ]
  },
  {
   "cell_type": "code",
   "execution_count": 807,
   "metadata": {
    "ExecuteTime": {
     "end_time": "2020-11-10T00:58:43.057910Z",
     "start_time": "2020-11-10T00:58:43.047929Z"
    },
    "scrolled": true
   },
   "outputs": [
    {
     "data": {
      "text/html": [
       "<div>\n",
       "<style scoped>\n",
       "    .dataframe tbody tr th:only-of-type {\n",
       "        vertical-align: middle;\n",
       "    }\n",
       "\n",
       "    .dataframe tbody tr th {\n",
       "        vertical-align: top;\n",
       "    }\n",
       "\n",
       "    .dataframe thead th {\n",
       "        text-align: right;\n",
       "    }\n",
       "</style>\n",
       "<table border=\"1\" class=\"dataframe\">\n",
       "  <thead>\n",
       "    <tr style=\"text-align: right;\">\n",
       "      <th></th>\n",
       "      <th>order_id</th>\n",
       "      <th>service_line</th>\n",
       "      <th>weight_lbs</th>\n",
       "      <th>volume_in3</th>\n",
       "    </tr>\n",
       "  </thead>\n",
       "  <tbody>\n",
       "    <tr>\n",
       "      <th>0</th>\n",
       "      <td>21000</td>\n",
       "      <td>34</td>\n",
       "      <td>717.2</td>\n",
       "      <td>3784.6</td>\n",
       "    </tr>\n",
       "    <tr>\n",
       "      <th>1</th>\n",
       "      <td>21001</td>\n",
       "      <td>34</td>\n",
       "      <td>1012.0</td>\n",
       "      <td>6748.7</td>\n",
       "    </tr>\n",
       "    <tr>\n",
       "      <th>2</th>\n",
       "      <td>21002</td>\n",
       "      <td>88</td>\n",
       "      <td>1100.0</td>\n",
       "      <td>87.9</td>\n",
       "    </tr>\n",
       "    <tr>\n",
       "      <th>3</th>\n",
       "      <td>21003</td>\n",
       "      <td>34</td>\n",
       "      <td>260.0</td>\n",
       "      <td>100700.0</td>\n",
       "    </tr>\n",
       "    <tr>\n",
       "      <th>4</th>\n",
       "      <td>21004</td>\n",
       "      <td>88</td>\n",
       "      <td>168.0</td>\n",
       "      <td>20700.0</td>\n",
       "    </tr>\n",
       "  </tbody>\n",
       "</table>\n",
       "</div>"
      ],
      "text/plain": [
       "   order_id  service_line  weight_lbs  volume_in3\n",
       "0     21000            34       717.2      3784.6\n",
       "1     21001            34      1012.0      6748.7\n",
       "2     21002            88      1100.0        87.9\n",
       "3     21003            34       260.0    100700.0\n",
       "4     21004            88       168.0     20700.0"
      ]
     },
     "execution_count": 807,
     "metadata": {},
     "output_type": "execute_result"
    }
   ],
   "source": [
    "#conversion successful\n",
    "df_imperial.head()"
   ]
  },
  {
   "cell_type": "markdown",
   "metadata": {},
   "source": [
    "<b>Data Visualization<b>"
   ]
  },
  {
   "cell_type": "code",
   "execution_count": 808,
   "metadata": {
    "ExecuteTime": {
     "end_time": "2020-11-10T00:58:46.751530Z",
     "start_time": "2020-11-10T00:58:43.835331Z"
    },
    "scrolled": false
   },
   "outputs": [
    {
     "data": {
      "image/png": "[encoded data removed]",
      "text/plain": [
       "<Figure size 720x720 with 20 Axes>"
      ]
     },
     "metadata": {
      "needs_background": "light"
     },
     "output_type": "display_data"
    }
   ],
   "source": [
    "#pair plot visualization of all columns\n",
    "sns.pairplot(df_imperial)\n",
    "plt.show()"
   ]
  },
  {
   "cell_type": "code",
   "execution_count": 809,
   "metadata": {
    "ExecuteTime": {
     "end_time": "2020-11-10T00:58:47.698029Z",
     "start_time": "2020-11-10T00:58:47.259169Z"
    },
    "scrolled": false
   },
   "outputs": [
    {
     "data": {
      "text/plain": [
       "Text(0.5, 1.0, 'Weight (lbs)')"
      ]
     },
     "execution_count": 809,
     "metadata": {},
     "output_type": "execute_result"
    },
    {
     "data": {
      "image/png": "[encoded data removed]",
      "text/plain": [
       "<Figure size 864x864 with 2 Axes>"
      ]
     },
     "metadata": {
      "needs_background": "light"
     },
     "output_type": "display_data"
    }
   ],
   "source": [
    "#View distribution of numerical columns\n",
    "import seaborn as sns\n",
    "import matplotlib.pyplot as plt\n",
    "\n",
    "f, axes = plt.subplots(2, 1, figsize=(12, 12), sharex=False)\n",
    "sns.distplot( df_imperial[\"volume_in3\"] , color=\"skyblue\", ax=axes[0])\n",
    "sns.distplot( df_imperial[\"weight_lbs\"] , color=\"gold\", ax=axes[1])\n",
    "# axes[0].set_xlim(0,1000000)\n",
    "axes[0].set_title('Volume (in^3)')\n",
    "# axes[1].set_xlim(0,5000)\n",
    "axes[1].set_title('Weight (lbs)')"
   ]
  },
  {
   "cell_type": "code",
   "execution_count": 810,
   "metadata": {
    "ExecuteTime": {
     "end_time": "2020-11-10T00:58:48.355268Z",
     "start_time": "2020-11-10T00:58:48.181707Z"
    }
   },
   "outputs": [
    {
     "data": {
      "text/plain": [
       "Text(0, 0.5, 'Weight (lbs)')"
      ]
     },
     "execution_count": 810,
     "metadata": {},
     "output_type": "execute_result"
    },
    {
     "data": {
      "image/png": "[encoded data removed]",
      "text/plain": [
       "<Figure size 640x480 with 1 Axes>"
      ]
     },
     "metadata": {},
     "output_type": "display_data"
    }
   ],
   "source": [
    "#scatter plot of numerical values\n",
    "import matplotlib.pyplot as plt\n",
    "from matplotlib.pyplot import figure\n",
    "\n",
    "figure(num=None, figsize=(8, 6), dpi=80, facecolor='w', edgecolor='k')\n",
    "\n",
    "plt.scatter(df_imperial['volume_in3'],df_imperial['weight_lbs'], alpha=0.5)\n",
    "plt.xlim(0,80000)\n",
    "plt.ylim(0,20000)\n",
    "plt.title('Weight vs Volume')\n",
    "plt.xlabel('Volume (in^3)')\n",
    "plt.ylabel('Weight (lbs)')"
   ]
  },
  {
   "cell_type": "markdown",
   "metadata": {},
   "source": [
    "<b>Fitting a Simple Linear Regression<b>"
   ]
  },
  {
   "cell_type": "code",
   "execution_count": 811,
   "metadata": {
    "ExecuteTime": {
     "end_time": "2020-11-10T00:58:48.853913Z",
     "start_time": "2020-11-10T00:58:48.846942Z"
    }
   },
   "outputs": [],
   "source": [
    "import numpy as np\n",
    "from sklearn.model_selection import train_test_split\n",
    "\n",
    "#only weight and volume features used to fit model\n",
    "y = df_imperial['weight_lbs']\n",
    "X = df_imperial['volume_in3']\n",
    "\n",
    "#split data into train and test\n",
    "X_train, X_test, y_train, y_test = train_test_split(X, y, test_size=0.33, random_state=42)"
   ]
  },
  {
   "cell_type": "code",
   "execution_count": 812,
   "metadata": {
    "ExecuteTime": {
     "end_time": "2020-11-10T00:58:49.315681Z",
     "start_time": "2020-11-10T00:58:49.310694Z"
    }
   },
   "outputs": [],
   "source": [
    "X_train = pd.DataFrame(X_train)\n",
    "X_test = pd.DataFrame(X_test)"
   ]
  },
  {
   "cell_type": "code",
   "execution_count": 813,
   "metadata": {
    "ExecuteTime": {
     "end_time": "2020-11-10T00:58:49.788435Z",
     "start_time": "2020-11-10T00:58:49.778447Z"
    }
   },
   "outputs": [
    {
     "data": {
      "text/plain": [
       "-0.04178157481731315"
      ]
     },
     "execution_count": 813,
     "metadata": {},
     "output_type": "execute_result"
    }
   ],
   "source": [
    "import numpy as np\n",
    "from sklearn.linear_model import LinearRegression\n",
    "\n",
    "# X_train.values.reshape(-1, 1)\n",
    "\n",
    "reg = LinearRegression().fit(X_train, y_train) #fit the model\n",
    "pred = pd.DataFrame(reg.predict(X_test))\n",
    "\n",
    "reg.score(X_test, y_test)"
   ]
  },
  {
   "cell_type": "code",
   "execution_count": 814,
   "metadata": {
    "ExecuteTime": {
     "end_time": "2020-11-10T00:58:50.477584Z",
     "start_time": "2020-11-10T00:58:50.326985Z"
    }
   },
   "outputs": [
    {
     "data": {
      "image/png": "[encoded data removed]",
      "text/plain": [
       "<Figure size 640x480 with 1 Axes>"
      ]
     },
     "metadata": {},
     "output_type": "display_data"
    }
   ],
   "source": [
    "#Visualize linear regression.  R^2 value is only 0.004, thus the fit is poor\n",
    "figure(num=None, figsize=(8, 6), dpi=80, facecolor='w', edgecolor='k')\n",
    "\n",
    "plt.scatter(X_test, y_test, color = \"blue\", alpha=0.5)\n",
    "plt.plot(X_test, pred, color = \"red\", alpha = 0.8)\n",
    "plt.title(\"Weight vs Volume\")\n",
    "plt.xlabel(\"Volume (in^3)\")\n",
    "plt.ylabel(\"Weight (lbs)\")\n",
    "plt.show()"
   ]
  },
  {
   "cell_type": "markdown",
   "metadata": {},
   "source": [
    "<b>Predicting with Random Forest Regression<b>"
   ]
  },
  {
   "cell_type": "code",
   "execution_count": 815,
   "metadata": {
    "ExecuteTime": {
     "end_time": "2020-11-10T00:58:51.096947Z",
     "start_time": "2020-11-10T00:58:50.956304Z"
    }
   },
   "outputs": [
    {
     "data": {
      "text/plain": [
       "-2.0417814238058924"
      ]
     },
     "execution_count": 815,
     "metadata": {},
     "output_type": "execute_result"
    }
   ],
   "source": [
    "#Random forest decision tree regression model fit to dataset\n",
    "#weight and volume features used to fit model\n",
    "from sklearn.ensemble import RandomForestRegressor\n",
    "\n",
    "\n",
    "regr = RandomForestRegressor(max_depth=3, random_state=42)\n",
    "regr.fit(X_train, y_train)\n",
    "pred = regr.predict(X_test)\n",
    "\n",
    "#score model predictions\n",
    "regr.score(pd.DataFrame(X_test), y_test)"
   ]
  },
  {
   "cell_type": "code",
   "execution_count": 816,
   "metadata": {
    "ExecuteTime": {
     "end_time": "2020-11-10T00:58:51.728272Z",
     "start_time": "2020-11-10T00:58:51.575661Z"
    }
   },
   "outputs": [
    {
     "data": {
      "image/png": "[encoded data removed]",
      "text/plain": [
       "<Figure size 640x480 with 1 Axes>"
      ]
     },
     "metadata": {},
     "output_type": "display_data"
    }
   ],
   "source": [
    "figure(num=None, figsize=(8, 6), dpi=80, facecolor='w', edgecolor='k')\n",
    "\n",
    "plt.scatter(X_test, y_test, color = \"blue\", alpha=0.5)\n",
    "plt.scatter(X_test, pred, color = \"red\", alpha = 0.5)\n",
    "plt.title(\"Weight vs Volume (R-Squared = -1.54)\")\n",
    "plt.xlabel(\"Volume (in^3)\")\n",
    "plt.ylabel(\"Weight (lbs)\")\n",
    "plt.show()"
   ]
  },
  {
   "cell_type": "markdown",
   "metadata": {},
   "source": [
    "<b>Fitting with Multiple X Variables Random Forest Regression, and Grid Search<b>"
   ]
  },
  {
   "cell_type": "code",
   "execution_count": 823,
   "metadata": {
    "ExecuteTime": {
     "end_time": "2020-11-10T01:08:38.632874Z",
     "start_time": "2020-11-10T01:08:38.610903Z"
    }
   },
   "outputs": [
    {
     "data": {
      "text/html": [
       "<div>\n",
       "<style scoped>\n",
       "    .dataframe tbody tr th:only-of-type {\n",
       "        vertical-align: middle;\n",
       "    }\n",
       "\n",
       "    .dataframe tbody tr th {\n",
       "        vertical-align: top;\n",
       "    }\n",
       "\n",
       "    .dataframe thead th {\n",
       "        text-align: right;\n",
       "    }\n",
       "</style>\n",
       "<table border=\"1\" class=\"dataframe\">\n",
       "  <thead>\n",
       "    <tr style=\"text-align: right;\">\n",
       "      <th></th>\n",
       "      <th>volume_in3</th>\n",
       "      <th>14</th>\n",
       "      <th>34</th>\n",
       "      <th>64</th>\n",
       "      <th>65</th>\n",
       "      <th>88</th>\n",
       "    </tr>\n",
       "  </thead>\n",
       "  <tbody>\n",
       "    <tr>\n",
       "      <th>703</th>\n",
       "      <td>7095.3</td>\n",
       "      <td>0</td>\n",
       "      <td>0</td>\n",
       "      <td>0</td>\n",
       "      <td>1</td>\n",
       "      <td>0</td>\n",
       "    </tr>\n",
       "    <tr>\n",
       "      <th>311</th>\n",
       "      <td>36864.0</td>\n",
       "      <td>0</td>\n",
       "      <td>0</td>\n",
       "      <td>0</td>\n",
       "      <td>1</td>\n",
       "      <td>0</td>\n",
       "    </tr>\n",
       "    <tr>\n",
       "      <th>722</th>\n",
       "      <td>1665.9</td>\n",
       "      <td>0</td>\n",
       "      <td>1</td>\n",
       "      <td>0</td>\n",
       "      <td>0</td>\n",
       "      <td>0</td>\n",
       "    </tr>\n",
       "    <tr>\n",
       "      <th>629</th>\n",
       "      <td>172800.0</td>\n",
       "      <td>0</td>\n",
       "      <td>0</td>\n",
       "      <td>0</td>\n",
       "      <td>1</td>\n",
       "      <td>0</td>\n",
       "    </tr>\n",
       "    <tr>\n",
       "      <th>0</th>\n",
       "      <td>3784.6</td>\n",
       "      <td>0</td>\n",
       "      <td>1</td>\n",
       "      <td>0</td>\n",
       "      <td>0</td>\n",
       "      <td>0</td>\n",
       "    </tr>\n",
       "  </tbody>\n",
       "</table>\n",
       "</div>"
      ],
      "text/plain": [
       "     volume_in3  14  34  64  65  88\n",
       "703      7095.3   0   0   0   1   0\n",
       "311     36864.0   0   0   0   1   0\n",
       "722      1665.9   0   1   0   0   0\n",
       "629    172800.0   0   0   0   1   0\n",
       "0        3784.6   0   1   0   0   0"
      ]
     },
     "execution_count": 823,
     "metadata": {},
     "output_type": "execute_result"
    }
   ],
   "source": [
    "y = df_imperial['weight_lbs']\n",
    "X = df_imperial[['volume_in3','service_line']]  #X includes volume_in3 and service_line features\n",
    "X = pd.concat([X, pd.get_dummies(df_imperial['service_line'])], axis=1)  #dummie variables created for service_line\n",
    "X = X.drop(['service_line'], axis=1)\n",
    "\n",
    "#split data into train and test\n",
    "X_train, X_test, y_train, y_test = train_test_split(X, y, test_size=0.33, random_state=42)\n",
    "X_train.head()"
   ]
  },
  {
   "cell_type": "code",
   "execution_count": 824,
   "metadata": {
    "ExecuteTime": {
     "end_time": "2020-11-10T01:08:52.341406Z",
     "start_time": "2020-11-10T01:08:41.833441Z"
    }
   },
   "outputs": [
    {
     "name": "stdout",
     "output_type": "stream",
     "text": [
      "Fitting 4 folds for each of 24 candidates, totalling 96 fits\n"
     ]
    },
    {
     "name": "stderr",
     "output_type": "stream",
     "text": [
      "[Parallel(n_jobs=1)]: Using backend SequentialBackend with 1 concurrent workers.\n"
     ]
    },
    {
     "name": "stdout",
     "output_type": "stream",
     "text": [
      "Best Parameters: {'bootstrap': True, 'max_depth': 6, 'min_weight_fraction_leaf': 0.015} Best Score: -0.18947632465442352\n"
     ]
    },
    {
     "name": "stderr",
     "output_type": "stream",
     "text": [
      "[Parallel(n_jobs=1)]: Done  96 out of  96 | elapsed:   10.3s finished\n"
     ]
    }
   ],
   "source": [
    "from sklearn.model_selection import GridSearchCV\n",
    "\n",
    "#Use a grid search with 4fold cross validation to for parameter hypertuning\n",
    "parameters = {'max_depth':[2,4,6,8], 'bootstrap':[False, True], 'min_weight_fraction_leaf':[0,0.005,0.015]}\n",
    "regr2 = RandomForestRegressor(random_state = 42)\n",
    "clf = GridSearchCV(regr2, parameters, verbose=1, cv=4, scoring='r2')\n",
    "clf.fit(X_train, y_train)\n",
    "\n",
    "#determine the highest scoring parameters\n",
    "print(\"Best Parameters:\",clf.best_params_,\"Best Score:\",clf.best_score_)\n"
   ]
  },
  {
   "cell_type": "code",
   "execution_count": 825,
   "metadata": {
    "ExecuteTime": {
     "end_time": "2020-11-10T01:08:57.724766Z",
     "start_time": "2020-11-10T01:08:57.574167Z"
    }
   },
   "outputs": [
    {
     "data": {
      "text/plain": [
       "-0.1395701212545204"
      ]
     },
     "execution_count": 825,
     "metadata": {},
     "output_type": "execute_result"
    }
   ],
   "source": [
    "#tune the model with the highest scoring parameters\n",
    "regr_best = RandomForestRegressor(bootstrap= True, max_depth= 6, min_weight_fraction_leaf= 0.015, random_state=42)\n",
    "\n",
    "regr_best.fit(X_train, y_train)\n",
    "pred_best = regr_best.predict(X_test)\n",
    "\n",
    "#model score\n",
    "regr_best.score(pd.DataFrame(X_test), y_test)"
   ]
  },
  {
   "cell_type": "code",
   "execution_count": 826,
   "metadata": {
    "ExecuteTime": {
     "end_time": "2020-11-10T01:09:04.720920Z",
     "start_time": "2020-11-10T01:09:04.563342Z"
    }
   },
   "outputs": [
    {
     "data": {
      "image/png": "[encoded data removed]",
      "text/plain": [
       "<Figure size 640x480 with 1 Axes>"
      ]
     },
     "metadata": {},
     "output_type": "display_data"
    }
   ],
   "source": [
    "figure(num=None, figsize=(8, 6), dpi=80, facecolor='w', edgecolor='k')\n",
    "\n",
    "plt.scatter(X_test['volume_in3'], y_test, color = \"blue\", alpha=0.5)\n",
    "plt.scatter(X_test['volume_in3'], pred_best, color = \"red\", alpha = 0.5)\n",
    "plt.title(\"Weight vs Volume (R-Squared = -0.14)\")\n",
    "plt.xlabel(\"Volume (in^3)\")\n",
    "plt.ylabel(\"Weight (lbs)\")\n",
    "plt.show()"
   ]
  },
  {
   "cell_type": "markdown",
   "metadata": {},
   "source": [
    "<b>Discussion:</b>\n",
    "\n",
    "This dataset is composed of five variables with volume and weight being the most useful for numerical modeling.  With just the data given, it is difficult to predict a package's height using just its weight and service line.  Models generally yielded near-zero R-squared values, indicating that model accuracy is worse than the null hypothesis (i.e a horizontal line).  Additional features, such as package units (i.e. metric or imperial) could also be implemented into the models; however, were not in order to limit scope.  Further ML analysis could be completed, such as KNN or DBScan, for the determination of related dataset clusters.  Such clustering methods would require some form of data standardization; however, once again this was not done in order to limit scope."
   ]
  }
 ],
 "metadata": {
  "hide_input": false,
  "kernelspec": {
   "display_name": "Python 3",
   "language": "python",
   "name": "python3"
  },
  "language_info": {
   "codemirror_mode": {
    "name": "ipython",
    "version": 3
   },
   "file_extension": ".py",
   "mimetype": "text/x-python",
   "name": "python",
   "nbconvert_exporter": "python",
   "pygments_lexer": "ipython3",
   "version": "3.7.6"
  },
  "toc": {
   "base_numbering": 1,
   "nav_menu": {},
   "number_sections": true,
   "sideBar": true,
   "skip_h1_title": false,
   "title_cell": "Table of Contents",
   "title_sidebar": "Contents",
   "toc_cell": false,
   "toc_position": {},
   "toc_section_display": true,
   "toc_window_display": false
  },
  "varInspector": {
   "cols": {
    "lenName": 16,
    "lenType": 16,
    "lenVar": 40
   },
   "kernels_config": {
    "python": {
     "delete_cmd_postfix": "",
     "delete_cmd_prefix": "del ",
     "library": "var_list.py",
     "varRefreshCmd": "print(var_dic_list())"
    },
    "r": {
     "delete_cmd_postfix": ") ",
     "delete_cmd_prefix": "rm(",
     "library": "var_list.r",
     "varRefreshCmd": "cat(var_dic_list()) "
    }
   },
   "types_to_exclude": [
    "module",
    "function",
    "builtin_function_or_method",
    "instance",
    "_Feature"
   ],
   "window_display": false
  }
 },
 "nbformat": 4,
 "nbformat_minor": 4
}
